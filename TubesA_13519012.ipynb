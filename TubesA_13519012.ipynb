{
 "cells": [
  {
   "cell_type": "code",
   "execution_count": 17,
   "metadata": {},
   "outputs": [],
   "source": [
    "from math import e\n",
    "\n",
    "def linear(sigma):\n",
    "    return sigma\n",
    "\n",
    "def relu(sigma):\n",
    "    return max(0, sigma)\n",
    "\n",
    "def sigmoid(sigma):\n",
    "    return 1/(1+e**(-sigma))\n",
    "\n",
    "def softmax(sigma):\n",
    "    return sigma\n",
    "\n",
    "class Model:\n",
    "    def __init__(self,size_of_input_layer):\n",
    "        self.layers = []\n",
    "        self.size_of_input_layer = size_of_input_layer\n",
    "\n",
    "    def add(self, array_of_weights, activation_function):\n",
    "        self.layers.append(Layer(array_of_weights, activation_function))\n",
    "\n",
    "    def predict(self, input_to_process):\n",
    "        results = []\n",
    "        for batch in range(len(input_to_process)):\n",
    "            \n",
    "            input = input_to_process[batch]\n",
    "            input.insert(0,1)\n",
    "\n",
    "            for layer in range(len(self.layers)):\n",
    "                self.layers[layer].layer_output = []\n",
    "\n",
    "            self.layers[0].calculate(input)\n",
    "            input_layer_output = self.layers[0].layer_output\n",
    "            for i in range(1, len(self.layers)):\n",
    "                self.layers[i].calculate(input_layer_output)\n",
    "                input_layer_output = self.layers[i].layer_output\n",
    "            \n",
    "            if self.layers[-1].activation_function != \"softmax\":    \n",
    "                results.append(input_layer_output[1]) #y_hat\n",
    "            else:\n",
    "                results.append(input_layer_output.index(max(input_layer_output[1:])))\n",
    "        return results\n",
    "\n",
    "class Layer:\n",
    "    def __init__(self, array_of_weights, activation_function):\n",
    "        self.neurons = []\n",
    "        self.layer_output = []\n",
    "        self.total_softmax_exponents = 0\n",
    "        self.activation_function = activation_function\n",
    "        for weights in array_of_weights:\n",
    "            self.neurons.append(Neuron(activation_function, weights))\n",
    "\n",
    "    def calculate(self, input_to_process):\n",
    "        if self.activation_function != \"softmax\":\n",
    "            for neuron in self.neurons:\n",
    "                neuron.calculate(input_to_process)\n",
    "                self.layer_output.append(neuron.h)\n",
    "            self.layer_output.insert(0,1)\n",
    "        else:\n",
    "            for neuron in self.neurons:\n",
    "                self.total_softmax_exponents = e**(neuron.sigma(input_to_process))\n",
    "            for neuron in self.neurons:\n",
    "                neuron.h = e**(neuron.sigma(input_to_process)) / self.total_softmax_exponents\n",
    "                self.layer_output.append(neuron.h)\n",
    "            self.layer_output.insert(0,1)\n",
    "\n",
    "class Neuron:\n",
    "    def __init__(self, activation_function, weights):\n",
    "        self.activation_function = activation_function\n",
    "        self.weights = weights\n",
    "\n",
    "    def sigma(self, x):\n",
    "        # First element of x must be bias\n",
    "        result = 0\n",
    "        for idx, weight in enumerate(self.weights):\n",
    "            result += weight * x[idx]\n",
    "        return result\n",
    "\n",
    "    def calculate(self ,input_to_process):\n",
    "        sigma_result = self.sigma(input_to_process)\n",
    "        if self.activation_function == 'linear':\n",
    "            self.h = linear(sigma_result)\n",
    "        if self.activation_function == 'relu':\n",
    "            self.h = relu(sigma_result)\n",
    "        if self.activation_function == 'sigmoid':\n",
    "            self.h = sigmoid(sigma_result)\n",
    "\n",
    "def summary(model):\n",
    "    paramList = []\n",
    "    param = model.size_of_input_layer\n",
    "    for layer in range(len(model.layers)):\n",
    "        param = (param + 1) * len(model.layers[layer].neurons)\n",
    "        print(\"Coefficient:\")\n",
    "        for neuron in model.layers[layer].neurons:\n",
    "            print(\"w{}{} : {}\".format(layer,model.layers[layer].neurons.index(neuron),neuron.weights))\n",
    "        print(\"\")\n",
    "        print(\"Output Shape:\")\n",
    "        print(len(model.layers[layer].neurons))\n",
    "        print(\"\")\n",
    "        print(\"Activation Function:\")\n",
    "        print(neuron.activation_function)\n",
    "        print(\"\")\n",
    "        print(\"Param\")\n",
    "        print(param)\n",
    "        paramList.append(param)\n",
    "        param = len(model.layers[layer].neurons)\n",
    "        print(\"=================================================\")\n",
    "    print(\"Total params: {}\".format(sum(paramList)))\n",
    "    print(\"Trainable params: {}\".format(sum(paramList)))\n",
    "\n",
    "# Testing\n",
    "# num_of_layer = 3\n",
    "# model = Model(2)\n",
    "# model.add([[-10,20,20,30],[30,-20,-20,30]], 'softmax')\n",
    "# model.add([[-30,20,20,20],[-30,20,20,20]], 'softmax')\n",
    "# y_hat = model.predict([[1,1,1],[0,0,2],[1,0,3]])\n",
    "# print(y_hat)\n",
    "# summary(model)\n",
    "\n",
    "def parse_model_from_file(file_name):\n",
    "    model = []\n",
    "    with open(file_name, encoding = 'utf-8') as f:\n",
    "        hidden_layer_num = int(f.readline().rstrip(\"\\n\"))\n",
    "        input_layer_neuron_num = int(f.readline().rstrip(\"\\n\"))\n",
    "\n",
    "        model = Model(input_layer_neuron_num)\n",
    "        for i in range(hidden_layer_num):\n",
    "            hidden_layer_attributes = f.readline().rstrip(\"\\n\").split(\",\")\n",
    "            hidden_layer_neuron_count = int(hidden_layer_attributes[0])\n",
    "            hidden_layer_act_func = hidden_layer_attributes[1]\n",
    "\n",
    "            array_of_weights = []\n",
    "            for neuron in range(2, 2 + hidden_layer_neuron_count):\n",
    "                weights = (list(map(int, hidden_layer_attributes[neuron].split(\";\"))))\n",
    "                array_of_weights.append(weights)\n",
    "\n",
    "            model.add(array_of_weights, hidden_layer_act_func)\n",
    "    return model"
   ]
  },
  {
   "cell_type": "markdown",
   "metadata": {},
   "source": [
    "Sigmoid"
   ]
  },
  {
   "cell_type": "code",
   "execution_count": 20,
   "metadata": {},
   "outputs": [
    {
     "name": "stdout",
     "output_type": "stream",
     "text": [
      "Coefficient:\n",
      "w00 : [-10, 20, 20]\n",
      "w01 : [30, -20, -20]\n",
      "\n",
      "Output Shape:\n",
      "2\n",
      "\n",
      "Activation Function:\n",
      "sigmoid\n",
      "\n",
      "Param\n",
      "6\n",
      "=================================================\n",
      "Coefficient:\n",
      "w10 : [-30, 20, 20]\n",
      "\n",
      "Output Shape:\n",
      "1\n",
      "\n",
      "Activation Function:\n",
      "sigmoid\n",
      "\n",
      "Param\n",
      "3\n",
      "=================================================\n",
      "Total params: 9\n",
      "Trainable params: 9\n"
     ]
    }
   ],
   "source": [
    "model = parse_model_from_file('tc1.txt')\n",
    "summary(model)"
   ]
  },
  {
   "cell_type": "markdown",
   "metadata": {},
   "source": [
    "Sigmoid input (0,0)"
   ]
  },
  {
   "cell_type": "code",
   "execution_count": 21,
   "metadata": {},
   "outputs": [
    {
     "name": "stdout",
     "output_type": "stream",
     "text": [
      "[4.543910487654594e-05]\n"
     ]
    }
   ],
   "source": [
    "print(model.predict([[0,0]]))"
   ]
  },
  {
   "cell_type": "markdown",
   "metadata": {},
   "source": [
    "Sigmoid input (0,1)"
   ]
  },
  {
   "cell_type": "code",
   "execution_count": 22,
   "metadata": {},
   "outputs": [
    {
     "name": "stdout",
     "output_type": "stream",
     "text": [
      "[0.999954519621495]\n"
     ]
    }
   ],
   "source": [
    "print(model.predict([[0,1]]))"
   ]
  },
  {
   "cell_type": "markdown",
   "metadata": {},
   "source": [
    "Sigmoid input (1,0)"
   ]
  },
  {
   "cell_type": "code",
   "execution_count": 23,
   "metadata": {},
   "outputs": [
    {
     "name": "stdout",
     "output_type": "stream",
     "text": [
      "[0.999954519621495]\n"
     ]
    }
   ],
   "source": [
    "print(model.predict([[1,0]]))"
   ]
  },
  {
   "cell_type": "markdown",
   "metadata": {},
   "source": [
    "Sigmoid input (1,1)"
   ]
  },
  {
   "cell_type": "code",
   "execution_count": 24,
   "metadata": {},
   "outputs": [
    {
     "name": "stdout",
     "output_type": "stream",
     "text": [
      "[4.543910487654586e-05]\n"
     ]
    }
   ],
   "source": [
    "print(model.predict([[1,1]]))"
   ]
  },
  {
   "cell_type": "markdown",
   "metadata": {},
   "source": [
    "Sigmoid input Batch atau ((0,0),(0,1)(1,0),(1,1))"
   ]
  },
  {
   "cell_type": "code",
   "execution_count": 25,
   "metadata": {},
   "outputs": [
    {
     "name": "stdout",
     "output_type": "stream",
     "text": [
      "[4.543910487654594e-05, 0.999954519621495, 0.999954519621495, 4.543910487654586e-05]\n"
     ]
    }
   ],
   "source": [
    "print(model.predict([[0,0],[0,1],[1,0],[1,1]]))"
   ]
  },
  {
   "cell_type": "markdown",
   "metadata": {},
   "source": [
    "ReLU"
   ]
  },
  {
   "cell_type": "code",
   "execution_count": 26,
   "metadata": {},
   "outputs": [
    {
     "name": "stdout",
     "output_type": "stream",
     "text": [
      "Coefficient:\n",
      "w00 : [0, 1, 1]\n",
      "w01 : [-1, 1, 1]\n",
      "\n",
      "Output Shape:\n",
      "2\n",
      "\n",
      "Activation Function:\n",
      "relu\n",
      "\n",
      "Param\n",
      "6\n",
      "=================================================\n",
      "Coefficient:\n",
      "w10 : [0, 1, -2]\n",
      "\n",
      "Output Shape:\n",
      "1\n",
      "\n",
      "Activation Function:\n",
      "linear\n",
      "\n",
      "Param\n",
      "3\n",
      "=================================================\n",
      "Total params: 9\n",
      "Trainable params: 9\n"
     ]
    }
   ],
   "source": [
    "model = parse_model_from_file('tc2.txt')\n",
    "summary(model)"
   ]
  },
  {
   "cell_type": "markdown",
   "metadata": {},
   "source": [
    "ReLU input (0,0)"
   ]
  },
  {
   "cell_type": "code",
   "execution_count": 27,
   "metadata": {},
   "outputs": [
    {
     "name": "stdout",
     "output_type": "stream",
     "text": [
      "[0]\n"
     ]
    }
   ],
   "source": [
    "print(model.predict([[0,0]]))"
   ]
  },
  {
   "cell_type": "markdown",
   "metadata": {},
   "source": [
    "ReLU input (0,1)"
   ]
  },
  {
   "cell_type": "code",
   "execution_count": 28,
   "metadata": {},
   "outputs": [
    {
     "name": "stdout",
     "output_type": "stream",
     "text": [
      "[1]\n"
     ]
    }
   ],
   "source": [
    "print(model.predict([[0,1]]))"
   ]
  },
  {
   "cell_type": "markdown",
   "metadata": {},
   "source": [
    "ReLU input (1,0)"
   ]
  },
  {
   "cell_type": "code",
   "execution_count": 29,
   "metadata": {},
   "outputs": [
    {
     "name": "stdout",
     "output_type": "stream",
     "text": [
      "[1]\n"
     ]
    }
   ],
   "source": [
    "print(model.predict([[1,0]]))"
   ]
  },
  {
   "cell_type": "markdown",
   "metadata": {},
   "source": [
    "ReLU input (1,1)"
   ]
  },
  {
   "cell_type": "code",
   "execution_count": 30,
   "metadata": {},
   "outputs": [
    {
     "name": "stdout",
     "output_type": "stream",
     "text": [
      "[0]\n"
     ]
    }
   ],
   "source": [
    "print(model.predict([[1,1]]))"
   ]
  },
  {
   "cell_type": "markdown",
   "metadata": {},
   "source": [
    "ReLU input Batch atau ((0,0),(0,1)(1,0),(1,1))"
   ]
  },
  {
   "cell_type": "code",
   "execution_count": 31,
   "metadata": {},
   "outputs": [
    {
     "name": "stdout",
     "output_type": "stream",
     "text": [
      "[0, 1, 1, 0]\n"
     ]
    }
   ],
   "source": [
    "print(model.predict([[0,0],[0,1],[1,0],[1,1]]))"
   ]
  }
 ],
 "metadata": {
  "interpreter": {
   "hash": "f4690d7809ab4c1b65f4eb13289ad2d212de261f7a9973b140a1c661289c26a6"
  },
  "kernelspec": {
   "display_name": "Python 3.7.4 ('base')",
   "language": "python",
   "name": "python3"
  },
  "language_info": {
   "codemirror_mode": {
    "name": "ipython",
    "version": 3
   },
   "file_extension": ".py",
   "mimetype": "text/x-python",
   "name": "python",
   "nbconvert_exporter": "python",
   "pygments_lexer": "ipython3",
   "version": "3.7.4"
  },
  "orig_nbformat": 4
 },
 "nbformat": 4,
 "nbformat_minor": 2
}
